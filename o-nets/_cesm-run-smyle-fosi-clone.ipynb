{
 "cells": [
  {
   "cell_type": "code",
   "execution_count": 97,
   "id": "dd23c52a-47de-43fe-8287-b884b2c359ab",
   "metadata": {},
   "outputs": [],
   "source": [
    "project=NCGD0011"
   ]
  },
  {
   "cell_type": "code",
   "execution_count": 98,
   "id": "8ea80f3a-dfcc-4a6b-a10d-4893dcab2add",
   "metadata": {},
   "outputs": [],
   "source": [
    "refcase=g.e22.GOMIPECOIAF_JRA-1p4-2018.TL319_g17.SMYLE.005\n",
    "refcase_root=/glade/work/klindsay/cesm22_cases/SMYLE\n",
    "\n",
    "refcaserest_root=/glade/work/mclong/o-nets/SMYLE-FOSI/rest\n",
    "refdate=\"0347-01-01\""
   ]
  },
  {
   "cell_type": "code",
   "execution_count": 99,
   "id": "f7e5c2a9-fc37-4c17-86fa-27193af8fa2e",
   "metadata": {},
   "outputs": [],
   "source": [
    "case=${refcase}.clone\n",
    "caseroot_root=/glade/work/${USER}/o-nets\n",
    "caseroot=${caseroot_root}/${case}\n",
    "mkdir -p ${caseroot_root}"
   ]
  },
  {
   "cell_type": "code",
   "execution_count": 100,
   "id": "03f91074-48d2-4c93-8caa-05bc78f99484",
   "metadata": {},
   "outputs": [],
   "source": [
    "rm -fr ${caseroot}\n",
    "rm -fr /glade/scratch/${USER}/${case}\n",
    "rm -fr /glade/scratch/${USER}/archive/${case}"
   ]
  },
  {
   "cell_type": "code",
   "execution_count": 101,
   "id": "dc60a630-4f6d-4456-ae94-22045bf8eab1",
   "metadata": {},
   "outputs": [],
   "source": [
    "coderoot=/glade/work/klindsay/cesm2_tags/cesm2.2.0"
   ]
  },
  {
   "cell_type": "code",
   "execution_count": 102,
   "id": "a181570d-eeff-44e7-b1ca-08af02f44744",
   "metadata": {},
   "outputs": [
    {
     "name": "stdout",
     "output_type": "stream",
     "text": [
      " Successfully created new case g.e22.GOMIPECOIAF_JRA-1p4-2018.TL319_g17.SMYLE.005.clone from clone case g.e22.GOMIPECOIAF_JRA-1p4-2018.TL319_g17.SMYLE.005 \n",
      "Setting Environment OMP_STACKSIZE=1024M\n",
      "Setting Environment TMPDIR=/glade/scratch/mclong\n",
      "Setting Environment MPI_TYPE_DEPTH=16\n",
      "Setting Environment MPI_IB_CONGESTED=1\n",
      "Setting resource.RLIMIT_STACK to -1 from (307200000, -1)\n",
      "/glade/work/mclong/o-nets/g.e22.GOMIPECOIAF_JRA-1p4-2018.TL319_g17.SMYLE.005.clone/env_mach_specific.xml already exists, delete to replace\n",
      "/glade/work/mclong/o-nets/g.e22.GOMIPECOIAF_JRA-1p4-2018.TL319_g17.SMYLE.005.clone/env_mach_specific.xml already exists, delete to replace\n",
      "job is case.run USER_REQUESTED_WALLTIME None USER_REQUESTED_QUEUE regular WALLTIME_FORMAT %H:%M:%S\n",
      "Creating batch scripts\n",
      "Writing case.run script from input template /glade/work/klindsay/cesm2_tags/cesm2.2.0/cime/config/cesm/machines/template.case.run\n",
      "Creating file .case.run\n",
      "Writing case.st_archive script from input template /glade/work/klindsay/cesm2_tags/cesm2.2.0/cime/config/cesm/machines/template.st_archive\n",
      "Creating file case.st_archive\n",
      "If an old case build already exists, might want to run 'case.build --clean' before building\n",
      "You can now run './preview_run' to get more info on how your case will be run\n"
     ]
    }
   ],
   "source": [
    "cd ${coderoot}/cime/scripts\n",
    "./create_clone --clone ${refcase_root}/${refcase} --project $project \\\n",
    "    --case ${caseroot} \\\n",
    "    --cime-output-root /glade/scratch/${USER}"
   ]
  },
  {
   "cell_type": "code",
   "execution_count": 103,
   "id": "d804d649-c3e8-472f-b7d3-5c28afbc3b60",
   "metadata": {},
   "outputs": [],
   "source": [
    "cd ${caseroot}\n",
    "./xmlchange STOP_N=6\n",
    "./xmlchange STOP_OPTION=nmonth\n",
    "./xmlchange RUN_TYPE=branch\n",
    "./xmlchange RUN_STARTDATE=${refdate}\n",
    "./xmlchange RUN_REFCASE=${refcase}\n",
    "./xmlchange RUN_REFDATE=${refdate}\n",
    "\n",
    "./xmlchange JOB_WALLCLOCK_TIME=\"00:30:00\" --subgroup case.run"
   ]
  },
  {
   "cell_type": "code",
   "execution_count": 104,
   "id": "8fc3c6b7-2dd8-4e76-a716-a305b147c69f",
   "metadata": {},
   "outputs": [
    {
     "name": "stdout",
     "output_type": "stream",
     "text": [
      "'/glade/work/mclong/o-nets/SMYLE-FOSI/rest/0347-01-01-00000/g.e22.GOMIPECOIAF_JRA-1p4-2018.TL319_g17.SMYLE.005.cice.r.0347-01-01-00000.nc' -> '/glade/scratch/mclong/g.e22.GOMIPECOIAF_JRA-1p4-2018.TL319_g17.SMYLE.005.clone/run/./g.e22.GOMIPECOIAF_JRA-1p4-2018.TL319_g17.SMYLE.005.cice.r.0347-01-01-00000.nc'\n",
      "'/glade/work/mclong/o-nets/SMYLE-FOSI/rest/0347-01-01-00000/g.e22.GOMIPECOIAF_JRA-1p4-2018.TL319_g17.SMYLE.005.cpl.r.0347-01-01-00000.nc' -> '/glade/scratch/mclong/g.e22.GOMIPECOIAF_JRA-1p4-2018.TL319_g17.SMYLE.005.clone/run/./g.e22.GOMIPECOIAF_JRA-1p4-2018.TL319_g17.SMYLE.005.cpl.r.0347-01-01-00000.nc'\n",
      "'/glade/work/mclong/o-nets/SMYLE-FOSI/rest/0347-01-01-00000/g.e22.GOMIPECOIAF_JRA-1p4-2018.TL319_g17.SMYLE.005.datm.rs1.0347-01-01-00000.bin' -> '/glade/scratch/mclong/g.e22.GOMIPECOIAF_JRA-1p4-2018.TL319_g17.SMYLE.005.clone/run/./g.e22.GOMIPECOIAF_JRA-1p4-2018.TL319_g17.SMYLE.005.datm.rs1.0347-01-01-00000.bin'\n",
      "'/glade/work/mclong/o-nets/SMYLE-FOSI/rest/0347-01-01-00000/g.e22.GOMIPECOIAF_JRA-1p4-2018.TL319_g17.SMYLE.005.drof.rs1.0347-01-01-00000.bin' -> '/glade/scratch/mclong/g.e22.GOMIPECOIAF_JRA-1p4-2018.TL319_g17.SMYLE.005.clone/run/./g.e22.GOMIPECOIAF_JRA-1p4-2018.TL319_g17.SMYLE.005.drof.rs1.0347-01-01-00000.bin'\n",
      "'/glade/work/mclong/o-nets/SMYLE-FOSI/rest/0347-01-01-00000/g.e22.GOMIPECOIAF_JRA-1p4-2018.TL319_g17.SMYLE.005.pop.r.0347-01-01-00000.nc' -> '/glade/scratch/mclong/g.e22.GOMIPECOIAF_JRA-1p4-2018.TL319_g17.SMYLE.005.clone/run/./g.e22.GOMIPECOIAF_JRA-1p4-2018.TL319_g17.SMYLE.005.pop.r.0347-01-01-00000.nc'\n",
      "'/glade/work/mclong/o-nets/SMYLE-FOSI/rest/0347-01-01-00000/g.e22.GOMIPECOIAF_JRA-1p4-2018.TL319_g17.SMYLE.005.pop.ro.0347-01-01-00000' -> '/glade/scratch/mclong/g.e22.GOMIPECOIAF_JRA-1p4-2018.TL319_g17.SMYLE.005.clone/run/./g.e22.GOMIPECOIAF_JRA-1p4-2018.TL319_g17.SMYLE.005.pop.ro.0347-01-01-00000'\n",
      "'/glade/work/mclong/o-nets/SMYLE-FOSI/rest/0347-01-01-00000/g.e22.GOMIPECOIAF_JRA-1p4-2018.TL319_g17.SMYLE.005.ww3.r.0347-01-01-00000' -> '/glade/scratch/mclong/g.e22.GOMIPECOIAF_JRA-1p4-2018.TL319_g17.SMYLE.005.clone/run/./g.e22.GOMIPECOIAF_JRA-1p4-2018.TL319_g17.SMYLE.005.ww3.r.0347-01-01-00000'\n",
      "'/glade/work/mclong/o-nets/SMYLE-FOSI/rest/0347-01-01-00000/rpointer.atm' -> '/glade/scratch/mclong/g.e22.GOMIPECOIAF_JRA-1p4-2018.TL319_g17.SMYLE.005.clone/run/./rpointer.atm'\n",
      "'/glade/work/mclong/o-nets/SMYLE-FOSI/rest/0347-01-01-00000/rpointer.drv' -> '/glade/scratch/mclong/g.e22.GOMIPECOIAF_JRA-1p4-2018.TL319_g17.SMYLE.005.clone/run/./rpointer.drv'\n",
      "'/glade/work/mclong/o-nets/SMYLE-FOSI/rest/0347-01-01-00000/rpointer.ice' -> '/glade/scratch/mclong/g.e22.GOMIPECOIAF_JRA-1p4-2018.TL319_g17.SMYLE.005.clone/run/./rpointer.ice'\n",
      "'/glade/work/mclong/o-nets/SMYLE-FOSI/rest/0347-01-01-00000/rpointer.ocn.ovf' -> '/glade/scratch/mclong/g.e22.GOMIPECOIAF_JRA-1p4-2018.TL319_g17.SMYLE.005.clone/run/./rpointer.ocn.ovf'\n",
      "'/glade/work/mclong/o-nets/SMYLE-FOSI/rest/0347-01-01-00000/rpointer.ocn.restart' -> '/glade/scratch/mclong/g.e22.GOMIPECOIAF_JRA-1p4-2018.TL319_g17.SMYLE.005.clone/run/./rpointer.ocn.restart'\n",
      "'/glade/work/mclong/o-nets/SMYLE-FOSI/rest/0347-01-01-00000/rpointer.ocn.tavg' -> '/glade/scratch/mclong/g.e22.GOMIPECOIAF_JRA-1p4-2018.TL319_g17.SMYLE.005.clone/run/./rpointer.ocn.tavg'\n",
      "'/glade/work/mclong/o-nets/SMYLE-FOSI/rest/0347-01-01-00000/rpointer.rof' -> '/glade/scratch/mclong/g.e22.GOMIPECOIAF_JRA-1p4-2018.TL319_g17.SMYLE.005.clone/run/./rpointer.rof'\n"
     ]
    }
   ],
   "source": [
    "cp -v ${refcaserest_root}/${refdate}-00000/* /glade/scratch/${USER}/${case}/run/."
   ]
  },
  {
   "cell_type": "code",
   "execution_count": 105,
   "id": "1bbd4159-8594-4c95-bbe5-0976edfb80de",
   "metadata": {},
   "outputs": [
    {
     "name": "stdout",
     "output_type": "stream",
     "text": [
      "Setting Environment OMP_STACKSIZE=1024M\n",
      "Setting Environment TMPDIR=/glade/scratch/mclong\n",
      "Setting Environment MPI_TYPE_DEPTH=16\n",
      "Setting Environment MPI_IB_CONGESTED=1\n",
      "Setting resource.RLIMIT_STACK to -1 from (307200000, -1)\n",
      "Machine/Decomp/Pes configuration has already been done ...skipping\n",
      "If an old case build already exists, might want to run 'case.build --clean' before building\n",
      "You can now run './preview_run' to get more info on how your case will be run\n"
     ]
    }
   ],
   "source": [
    "./case.setup\n"
   ]
  },
  {
   "cell_type": "code",
   "execution_count": 106,
   "id": "66a7c78f-16dc-470a-acd6-0067efa487c3",
   "metadata": {},
   "outputs": [
    {
     "name": "stdout",
     "output_type": "stream",
     "text": [
      "Setting Environment OMP_STACKSIZE=1024M\n",
      "Setting Environment TMPDIR=/glade/scratch/mclong\n",
      "Setting Environment MPI_TYPE_DEPTH=16\n",
      "Setting Environment MPI_IB_CONGESTED=1\n",
      "Setting resource.RLIMIT_STACK to -1 from (307200000, -1)\n",
      "GET_REFCASE is false, the user is expected to stage the refcase to the run directory.\n",
      "Creating component namelists\n",
      "  2021-09-14 09:25:41 atm \n",
      "   Calling /glade/work/klindsay/cesm2_tags/cesm2.2.0/cime/src/components/data_comps_mct/datm/cime_config/buildnml\n",
      "  2021-09-14 09:25:42 lnd \n",
      "   Calling /glade/work/klindsay/cesm2_tags/cesm2.2.0/cime/src/components/stub_comps_mct/slnd/cime_config/buildnml\n",
      "  2021-09-14 09:25:42 ice \n",
      "   Calling /glade/work/klindsay/cesm2_tags/cesm2.2.0/cime/../components/cice//cime_config/buildnml\n",
      "     ...buildnml calling cice buildcpp to set build time options\n",
      "  2021-09-14 09:25:42 ocn \n",
      "   Calling /glade/work/klindsay/cesm2_tags/cesm2.2.0/cime/../components/pop//cime_config/buildnml\n",
      "     ... buildnml: calling pop buildcpp to set build time options\n",
      "  2021-09-14 09:25:43 rof \n",
      "   Calling /glade/work/klindsay/cesm2_tags/cesm2.2.0/cime/src/components/data_comps_mct/drof/cime_config/buildnml\n",
      "  2021-09-14 09:25:43 glc \n",
      "   Calling /glade/work/klindsay/cesm2_tags/cesm2.2.0/cime/src/components/stub_comps_mct/sglc/cime_config/buildnml\n",
      "  2021-09-14 09:25:43 wav \n",
      "   Calling /glade/work/klindsay/cesm2_tags/cesm2.2.0/cime/../components/ww3//cime_config/buildnml\n",
      "  2021-09-14 09:25:43 iac \n",
      "   Running /glade/work/klindsay/cesm2_tags/cesm2.2.0/cime/src/components/stub_comps_mct/siac/cime_config/buildnml \n",
      "  2021-09-14 09:25:43 esp \n",
      "   Calling /glade/work/klindsay/cesm2_tags/cesm2.2.0/cime/src/components/stub_comps_mct/sesp/cime_config/buildnml\n",
      "  2021-09-14 09:25:43 cpl \n",
      "   Calling /glade/work/klindsay/cesm2_tags/cesm2.2.0/cime/src/drivers/mct/cime_config/buildnml\n"
     ]
    }
   ],
   "source": [
    "./preview_namelists"
   ]
  },
  {
   "cell_type": "code",
   "execution_count": 107,
   "id": "df47c021-eaee-4456-a2ea-67616689edd6",
   "metadata": {},
   "outputs": [
    {
     "name": "stdout",
     "output_type": "stream",
     "text": [
      "Submitting command to PBS using account NCGD0011:\n",
      "    ./case.build\n",
      "\n",
      "Requested custom PBS options:\n",
      "    -A NCGD0011 \n",
      "\n",
      "Waiting for job 433922.chadmin1.ib0.cheyenne.ucar.edu to start ... \n",
      "\n",
      "\n",
      "Building case in directory /glade/work/mclong/o-nets/g.e22.GOMIPECOIAF_JRA-1p4-2018.TL319_g17.SMYLE.005.clone\n",
      "sharedlib_only is False\n",
      "model_only is False\n",
      "Setting Environment OMP_STACKSIZE=1024M\n",
      "Setting Environment TMPDIR=/glade/scratch/mclong\n",
      "Setting Environment MPI_TYPE_DEPTH=16\n",
      "Setting Environment MPI_IB_CONGESTED=1\n",
      "Setting resource.RLIMIT_STACK to -1 from (-1, -1)\n",
      "Generating component namelists as part of build\n",
      "GET_REFCASE is false, the user is expected to stage the refcase to the run directory.\n",
      "Creating component namelists\n",
      "  2021-09-14 09:26:59 atm \n",
      "   Calling /glade/work/klindsay/cesm2_tags/cesm2.2.0/cime/src/components/data_comps_mct/datm/cime_config/buildnml\n",
      "  2021-09-14 09:26:59 lnd \n",
      "   Calling /glade/work/klindsay/cesm2_tags/cesm2.2.0/cime/src/components/stub_comps_mct/slnd/cime_config/buildnml\n",
      "  2021-09-14 09:26:59 ice \n",
      "   Calling /glade/work/klindsay/cesm2_tags/cesm2.2.0/cime/../components/cice//cime_config/buildnml\n",
      "     ...buildnml calling cice buildcpp to set build time options\n",
      "  2021-09-14 09:26:59 ocn \n",
      "   Calling /glade/work/klindsay/cesm2_tags/cesm2.2.0/cime/../components/pop//cime_config/buildnml\n",
      "     ... buildnml: calling pop buildcpp to set build time options\n",
      "  2021-09-14 09:27:01 rof \n",
      "   Calling /glade/work/klindsay/cesm2_tags/cesm2.2.0/cime/src/components/data_comps_mct/drof/cime_config/buildnml\n",
      "  2021-09-14 09:27:02 glc \n",
      "   Calling /glade/work/klindsay/cesm2_tags/cesm2.2.0/cime/src/components/stub_comps_mct/sglc/cime_config/buildnml\n",
      "  2021-09-14 09:27:02 wav \n",
      "   Calling /glade/work/klindsay/cesm2_tags/cesm2.2.0/cime/../components/ww3//cime_config/buildnml\n",
      "  2021-09-14 09:27:02 iac \n",
      "   Running /glade/work/klindsay/cesm2_tags/cesm2.2.0/cime/src/components/stub_comps_mct/siac/cime_config/buildnml \n",
      "  2021-09-14 09:27:02 esp \n",
      "   Calling /glade/work/klindsay/cesm2_tags/cesm2.2.0/cime/src/components/stub_comps_mct/sesp/cime_config/buildnml\n",
      "  2021-09-14 09:27:02 cpl \n",
      "   Calling /glade/work/klindsay/cesm2_tags/cesm2.2.0/cime/src/drivers/mct/cime_config/buildnml\n",
      "Building gptl with output to file /glade/scratch/mclong/g.e22.GOMIPECOIAF_JRA-1p4-2018.TL319_g17.SMYLE.005.clone/bld/gptl.bldlog.210914-092658\n",
      "   Calling /glade/work/klindsay/cesm2_tags/cesm2.2.0/cime/src/build_scripts/buildlib.gptl\n",
      "Building mct with output to file /glade/scratch/mclong/g.e22.GOMIPECOIAF_JRA-1p4-2018.TL319_g17.SMYLE.005.clone/bld/mct.bldlog.210914-092658\n",
      "   Calling /glade/work/klindsay/cesm2_tags/cesm2.2.0/cime/src/build_scripts/buildlib.mct\n",
      "Building pio with output to file /glade/scratch/mclong/g.e22.GOMIPECOIAF_JRA-1p4-2018.TL319_g17.SMYLE.005.clone/bld/pio.bldlog.210914-092658\n",
      "   Calling /glade/work/klindsay/cesm2_tags/cesm2.2.0/cime/src/build_scripts/buildlib.pio\n",
      "Component pio build complete with 2 warnings\n",
      "Building csm_share with output to file /glade/scratch/mclong/g.e22.GOMIPECOIAF_JRA-1p4-2018.TL319_g17.SMYLE.005.clone/bld/csm_share.bldlog.210914-092658\n",
      "   Calling /glade/work/klindsay/cesm2_tags/cesm2.2.0/cime/src/build_scripts/buildlib.csm_share\n",
      "Component csm_share build complete with 20 warnings\n",
      "         - Building atm Library \n",
      "Building atm with output to /glade/scratch/mclong/g.e22.GOMIPECOIAF_JRA-1p4-2018.TL319_g17.SMYLE.005.clone/bld/atm.bldlog.210914-092658\n",
      "         - Building lnd Library \n",
      "Building lnd with output to /glade/scratch/mclong/g.e22.GOMIPECOIAF_JRA-1p4-2018.TL319_g17.SMYLE.005.clone/bld/lnd.bldlog.210914-092658\n",
      "         - Building ice Library \n",
      "Building ice with output to /glade/scratch/mclong/g.e22.GOMIPECOIAF_JRA-1p4-2018.TL319_g17.SMYLE.005.clone/bld/ice.bldlog.210914-092658\n",
      "         - Building ocn Library \n",
      "Building ocn with output to /glade/scratch/mclong/g.e22.GOMIPECOIAF_JRA-1p4-2018.TL319_g17.SMYLE.005.clone/bld/ocn.bldlog.210914-092658\n",
      "         - Building rof Library \n",
      "Building rof with output to /glade/scratch/mclong/g.e22.GOMIPECOIAF_JRA-1p4-2018.TL319_g17.SMYLE.005.clone/bld/rof.bldlog.210914-092658\n",
      "         - Building glc Library \n",
      "Building glc with output to /glade/scratch/mclong/g.e22.GOMIPECOIAF_JRA-1p4-2018.TL319_g17.SMYLE.005.clone/bld/glc.bldlog.210914-092658\n",
      "         - Building wav Library \n",
      "Building wav with output to /glade/scratch/mclong/g.e22.GOMIPECOIAF_JRA-1p4-2018.TL319_g17.SMYLE.005.clone/bld/wav.bldlog.210914-092658\n",
      "         - Building iac Library \n",
      "Building iac with output to /glade/scratch/mclong/g.e22.GOMIPECOIAF_JRA-1p4-2018.TL319_g17.SMYLE.005.clone/bld/iac.bldlog.210914-092658\n",
      "         - Building esp Library \n",
      "Building esp with output to /glade/scratch/mclong/g.e22.GOMIPECOIAF_JRA-1p4-2018.TL319_g17.SMYLE.005.clone/bld/esp.bldlog.210914-092658\n",
      "sglc built in 2.148201 seconds\n",
      "sesp built in 2.213388 seconds\n",
      "slnd built in 2.398940 seconds\n",
      "siac built in 2.477688 seconds\n",
      "drof built in 5.803617 seconds\n",
      "datm built in 7.518003 seconds\n",
      "ww built in 34.409057 seconds\n",
      "Component ice build complete with 1 warnings\n",
      "cice built in 77.357119 seconds\n",
      "Component ocn build complete with 13 warnings\n",
      "pop built in 435.169190 seconds\n",
      "Building cesm from /glade/work/klindsay/cesm2_tags/cesm2.2.0/cime/src/drivers/mct/cime_config/buildexe with output to /glade/scratch/mclong/g.e22.GOMIPECOIAF_JRA-1p4-2018.TL319_g17.SMYLE.005.clone/bld/cesm.bldlog.210914-092658 \n",
      "Time spent not building: 4.815024 sec\n",
      "Time spent building: 622.101721 sec\n",
      "MODEL BUILD HAS FINISHED SUCCESSFULLY\n"
     ]
    }
   ],
   "source": [
    "qcmd -A ${project} -- ./case.build"
   ]
  },
  {
   "cell_type": "code",
   "execution_count": 108,
   "id": "f090dd08-3542-4f01-bbe3-2199c39a4991",
   "metadata": {},
   "outputs": [
    {
     "name": "stdout",
     "output_type": "stream",
     "text": [
      "\n",
      "env_batch.xml appears to have changed, regenerating batch scripts\n",
      "manual edits to these file will be lost!\n",
      "\n",
      "Creating batch scripts\n",
      "Writing case.run script from input template /glade/work/klindsay/cesm2_tags/cesm2.2.0/cime/config/cesm/machines/template.case.run\n",
      "Creating file .case.run\n",
      "Writing case.st_archive script from input template /glade/work/klindsay/cesm2_tags/cesm2.2.0/cime/config/cesm/machines/template.st_archive\n",
      "Creating file case.st_archive\n",
      "Setting Environment OMP_STACKSIZE=1024M\n",
      "Setting Environment TMPDIR=/glade/scratch/mclong\n",
      "Setting Environment MPI_TYPE_DEPTH=16\n",
      "Setting Environment MPI_IB_CONGESTED=1\n",
      "Setting resource.RLIMIT_STACK to -1 from (307200000, -1)\n",
      "GET_REFCASE is false, the user is expected to stage the refcase to the run directory.\n",
      "Creating component namelists\n",
      "  2021-09-14 09:37:46 atm \n",
      "   Calling /glade/work/klindsay/cesm2_tags/cesm2.2.0/cime/src/components/data_comps_mct/datm/cime_config/buildnml\n",
      "  2021-09-14 09:37:47 lnd \n",
      "   Calling /glade/work/klindsay/cesm2_tags/cesm2.2.0/cime/src/components/stub_comps_mct/slnd/cime_config/buildnml\n",
      "  2021-09-14 09:37:47 ice \n",
      "   Calling /glade/work/klindsay/cesm2_tags/cesm2.2.0/cime/../components/cice//cime_config/buildnml\n",
      "  2021-09-14 09:37:47 ocn \n",
      "   Calling /glade/work/klindsay/cesm2_tags/cesm2.2.0/cime/../components/pop//cime_config/buildnml\n",
      "  2021-09-14 09:37:48 rof \n",
      "   Calling /glade/work/klindsay/cesm2_tags/cesm2.2.0/cime/src/components/data_comps_mct/drof/cime_config/buildnml\n",
      "  2021-09-14 09:37:48 glc \n",
      "   Calling /glade/work/klindsay/cesm2_tags/cesm2.2.0/cime/src/components/stub_comps_mct/sglc/cime_config/buildnml\n",
      "  2021-09-14 09:37:48 wav \n",
      "   Calling /glade/work/klindsay/cesm2_tags/cesm2.2.0/cime/../components/ww3//cime_config/buildnml\n",
      "  2021-09-14 09:37:48 iac \n",
      "   Running /glade/work/klindsay/cesm2_tags/cesm2.2.0/cime/src/components/stub_comps_mct/siac/cime_config/buildnml \n",
      "  2021-09-14 09:37:48 esp \n",
      "   Calling /glade/work/klindsay/cesm2_tags/cesm2.2.0/cime/src/components/stub_comps_mct/sesp/cime_config/buildnml\n",
      "  2021-09-14 09:37:48 cpl \n",
      "   Calling /glade/work/klindsay/cesm2_tags/cesm2.2.0/cime/src/drivers/mct/cime_config/buildnml\n",
      "Checking that inputdata is available as part of case submission\n",
      "Setting Environment OMP_STACKSIZE=1024M\n",
      "Setting Environment TMPDIR=/glade/scratch/mclong\n",
      "Setting Environment MPI_TYPE_DEPTH=16\n",
      "Setting Environment MPI_IB_CONGESTED=1\n",
      "Setting resource.RLIMIT_STACK to -1 from (-1, -1)\n",
      "Loading input file list: 'Buildconf/cpl.input_data_list'\n",
      "Loading input file list: 'Buildconf/pop.input_data_list'\n",
      "Loading input file list: 'Buildconf/ww3.input_data_list'\n",
      "Loading input file list: 'Buildconf/datm.input_data_list'\n",
      "Loading input file list: 'Buildconf/drof.input_data_list'\n",
      "Loading input file list: 'Buildconf/cice.input_data_list'\n",
      "GET_REFCASE is false, the user is expected to stage the refcase to the run directory.\n",
      "GET_REFCASE is false, the user is expected to stage the refcase to the run directory.\n",
      "Creating component namelists\n",
      "  2021-09-14 09:37:50 atm \n",
      "  2021-09-14 09:37:50 lnd \n",
      "  2021-09-14 09:37:50 ice \n",
      "  2021-09-14 09:37:50 ocn \n",
      "  2021-09-14 09:37:50 rof \n",
      "  2021-09-14 09:37:50 glc \n",
      "  2021-09-14 09:37:50 wav \n",
      "  2021-09-14 09:37:50 iac \n",
      "  2021-09-14 09:37:50 esp \n",
      "  2021-09-14 09:37:50 cpl \n",
      "Check case OK\n",
      "submit_jobs case.run\n",
      "Submit job case.run\n",
      "Submitting job script qsub -q regular -l walltime=00:30:00 -A NCGD0011 -m ea -v ARGS_FOR_SCRIPT='--resubmit' .case.run\n",
      "Submitted job id is 434014.chadmin1.ib0.cheyenne.ucar.edu\n",
      "Submit job case.st_archive\n",
      "Submitting job script qsub -q share -l walltime=00:20:00 -A NCGD0011  -W depend=afterok:434014.chadmin1.ib0.cheyenne.ucar.edu -m ea -v ARGS_FOR_SCRIPT='--resubmit' case.st_archive\n",
      "Submitted job id is 434015.chadmin1.ib0.cheyenne.ucar.edu\n",
      "Submitted job case.run with id 434014.chadmin1.ib0.cheyenne.ucar.edu\n",
      "Submitted job case.st_archive with id 434015.chadmin1.ib0.cheyenne.ucar.edu\n"
     ]
    }
   ],
   "source": [
    "./case.submit"
   ]
  }
 ],
 "metadata": {
  "kernelspec": {
   "display_name": "Bash",
   "language": "bash",
   "name": "bash"
  },
  "language_info": {
   "codemirror_mode": "shell",
   "file_extension": ".sh",
   "mimetype": "text/x-sh",
   "name": "bash"
  }
 },
 "nbformat": 4,
 "nbformat_minor": 5
}
